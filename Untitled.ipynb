{
 "cells": [
  {
   "cell_type": "code",
   "execution_count": 3,
   "id": "6e048ce5",
   "metadata": {},
   "outputs": [],
   "source": [
    "import pyforest\n",
    "import warnings\n",
    "\n",
    "warnings.filterwarnings(\"ignore\")"
   ]
  },
  {
   "cell_type": "code",
   "execution_count": 4,
   "id": "e38fd00d",
   "metadata": {},
   "outputs": [
    {
     "data": {
      "application/javascript": "\n        if (window._pyforest_update_imports_cell) { window._pyforest_update_imports_cell('import xgboost as xgb\\nimport seaborn as sns'); }\n    ",
      "text/plain": [
       "<IPython.core.display.Javascript object>"
      ]
     },
     "metadata": {},
     "output_type": "display_data"
    },
    {
     "data": {
      "text/html": [
       "<div>\n",
       "<style scoped>\n",
       "    .dataframe tbody tr th:only-of-type {\n",
       "        vertical-align: middle;\n",
       "    }\n",
       "\n",
       "    .dataframe tbody tr th {\n",
       "        vertical-align: top;\n",
       "    }\n",
       "\n",
       "    .dataframe thead th {\n",
       "        text-align: right;\n",
       "    }\n",
       "</style>\n",
       "<table border=\"1\" class=\"dataframe\">\n",
       "  <thead>\n",
       "    <tr style=\"text-align: right;\">\n",
       "      <th></th>\n",
       "      <th>carat</th>\n",
       "      <th>cut</th>\n",
       "      <th>color</th>\n",
       "      <th>clarity</th>\n",
       "      <th>depth</th>\n",
       "      <th>table</th>\n",
       "      <th>price</th>\n",
       "      <th>x</th>\n",
       "      <th>y</th>\n",
       "      <th>z</th>\n",
       "    </tr>\n",
       "  </thead>\n",
       "  <tbody>\n",
       "    <tr>\n",
       "      <th>0</th>\n",
       "      <td>0.23</td>\n",
       "      <td>Ideal</td>\n",
       "      <td>E</td>\n",
       "      <td>SI2</td>\n",
       "      <td>61.5</td>\n",
       "      <td>55.0</td>\n",
       "      <td>326</td>\n",
       "      <td>3.95</td>\n",
       "      <td>3.98</td>\n",
       "      <td>2.43</td>\n",
       "    </tr>\n",
       "    <tr>\n",
       "      <th>1</th>\n",
       "      <td>0.21</td>\n",
       "      <td>Premium</td>\n",
       "      <td>E</td>\n",
       "      <td>SI1</td>\n",
       "      <td>59.8</td>\n",
       "      <td>61.0</td>\n",
       "      <td>326</td>\n",
       "      <td>3.89</td>\n",
       "      <td>3.84</td>\n",
       "      <td>2.31</td>\n",
       "    </tr>\n",
       "    <tr>\n",
       "      <th>2</th>\n",
       "      <td>0.23</td>\n",
       "      <td>Good</td>\n",
       "      <td>E</td>\n",
       "      <td>VS1</td>\n",
       "      <td>56.9</td>\n",
       "      <td>65.0</td>\n",
       "      <td>327</td>\n",
       "      <td>4.05</td>\n",
       "      <td>4.07</td>\n",
       "      <td>2.31</td>\n",
       "    </tr>\n",
       "    <tr>\n",
       "      <th>3</th>\n",
       "      <td>0.29</td>\n",
       "      <td>Premium</td>\n",
       "      <td>I</td>\n",
       "      <td>VS2</td>\n",
       "      <td>62.4</td>\n",
       "      <td>58.0</td>\n",
       "      <td>334</td>\n",
       "      <td>4.20</td>\n",
       "      <td>4.23</td>\n",
       "      <td>2.63</td>\n",
       "    </tr>\n",
       "    <tr>\n",
       "      <th>4</th>\n",
       "      <td>0.31</td>\n",
       "      <td>Good</td>\n",
       "      <td>J</td>\n",
       "      <td>SI2</td>\n",
       "      <td>63.3</td>\n",
       "      <td>58.0</td>\n",
       "      <td>335</td>\n",
       "      <td>4.34</td>\n",
       "      <td>4.35</td>\n",
       "      <td>2.75</td>\n",
       "    </tr>\n",
       "  </tbody>\n",
       "</table>\n",
       "</div>"
      ],
      "text/plain": [
       "   carat      cut color clarity  depth  table  price     x     y     z\n",
       "0   0.23    Ideal     E     SI2   61.5   55.0    326  3.95  3.98  2.43\n",
       "1   0.21  Premium     E     SI1   59.8   61.0    326  3.89  3.84  2.31\n",
       "2   0.23     Good     E     VS1   56.9   65.0    327  4.05  4.07  2.31\n",
       "3   0.29  Premium     I     VS2   62.4   58.0    334  4.20  4.23  2.63\n",
       "4   0.31     Good     J     SI2   63.3   58.0    335  4.34  4.35  2.75"
      ]
     },
     "execution_count": 4,
     "metadata": {},
     "output_type": "execute_result"
    }
   ],
   "source": [
    "diamonds=sns.load_dataset(\"diamonds\")\n",
    "diamonds.head()"
   ]
  },
  {
   "cell_type": "code",
   "execution_count": 5,
   "id": "c5c0f9e7",
   "metadata": {},
   "outputs": [
    {
     "data": {
      "text/plain": [
       "(53940, 10)"
      ]
     },
     "execution_count": 5,
     "metadata": {},
     "output_type": "execute_result"
    }
   ],
   "source": [
    "diamonds.shape"
   ]
  },
  {
   "cell_type": "code",
   "execution_count": 6,
   "id": "68d93b91",
   "metadata": {},
   "outputs": [
    {
     "data": {
      "text/html": [
       "<div>\n",
       "<style scoped>\n",
       "    .dataframe tbody tr th:only-of-type {\n",
       "        vertical-align: middle;\n",
       "    }\n",
       "\n",
       "    .dataframe tbody tr th {\n",
       "        vertical-align: top;\n",
       "    }\n",
       "\n",
       "    .dataframe thead th {\n",
       "        text-align: right;\n",
       "    }\n",
       "</style>\n",
       "<table border=\"1\" class=\"dataframe\">\n",
       "  <thead>\n",
       "    <tr style=\"text-align: right;\">\n",
       "      <th></th>\n",
       "      <th>carat</th>\n",
       "      <th>depth</th>\n",
       "      <th>table</th>\n",
       "      <th>price</th>\n",
       "      <th>x</th>\n",
       "      <th>y</th>\n",
       "      <th>z</th>\n",
       "    </tr>\n",
       "  </thead>\n",
       "  <tbody>\n",
       "    <tr>\n",
       "      <th>count</th>\n",
       "      <td>53940.000000</td>\n",
       "      <td>53940.000000</td>\n",
       "      <td>53940.000000</td>\n",
       "      <td>53940.000000</td>\n",
       "      <td>53940.000000</td>\n",
       "      <td>53940.000000</td>\n",
       "      <td>53940.000000</td>\n",
       "    </tr>\n",
       "    <tr>\n",
       "      <th>mean</th>\n",
       "      <td>0.797940</td>\n",
       "      <td>61.749405</td>\n",
       "      <td>57.457184</td>\n",
       "      <td>3932.799722</td>\n",
       "      <td>5.731157</td>\n",
       "      <td>5.734526</td>\n",
       "      <td>3.538734</td>\n",
       "    </tr>\n",
       "    <tr>\n",
       "      <th>std</th>\n",
       "      <td>0.474011</td>\n",
       "      <td>1.432621</td>\n",
       "      <td>2.234491</td>\n",
       "      <td>3989.439738</td>\n",
       "      <td>1.121761</td>\n",
       "      <td>1.142135</td>\n",
       "      <td>0.705699</td>\n",
       "    </tr>\n",
       "    <tr>\n",
       "      <th>min</th>\n",
       "      <td>0.200000</td>\n",
       "      <td>43.000000</td>\n",
       "      <td>43.000000</td>\n",
       "      <td>326.000000</td>\n",
       "      <td>0.000000</td>\n",
       "      <td>0.000000</td>\n",
       "      <td>0.000000</td>\n",
       "    </tr>\n",
       "    <tr>\n",
       "      <th>25%</th>\n",
       "      <td>0.400000</td>\n",
       "      <td>61.000000</td>\n",
       "      <td>56.000000</td>\n",
       "      <td>950.000000</td>\n",
       "      <td>4.710000</td>\n",
       "      <td>4.720000</td>\n",
       "      <td>2.910000</td>\n",
       "    </tr>\n",
       "    <tr>\n",
       "      <th>50%</th>\n",
       "      <td>0.700000</td>\n",
       "      <td>61.800000</td>\n",
       "      <td>57.000000</td>\n",
       "      <td>2401.000000</td>\n",
       "      <td>5.700000</td>\n",
       "      <td>5.710000</td>\n",
       "      <td>3.530000</td>\n",
       "    </tr>\n",
       "    <tr>\n",
       "      <th>75%</th>\n",
       "      <td>1.040000</td>\n",
       "      <td>62.500000</td>\n",
       "      <td>59.000000</td>\n",
       "      <td>5324.250000</td>\n",
       "      <td>6.540000</td>\n",
       "      <td>6.540000</td>\n",
       "      <td>4.040000</td>\n",
       "    </tr>\n",
       "    <tr>\n",
       "      <th>max</th>\n",
       "      <td>5.010000</td>\n",
       "      <td>79.000000</td>\n",
       "      <td>95.000000</td>\n",
       "      <td>18823.000000</td>\n",
       "      <td>10.740000</td>\n",
       "      <td>58.900000</td>\n",
       "      <td>31.800000</td>\n",
       "    </tr>\n",
       "  </tbody>\n",
       "</table>\n",
       "</div>"
      ],
      "text/plain": [
       "              carat         depth         table         price             x  \\\n",
       "count  53940.000000  53940.000000  53940.000000  53940.000000  53940.000000   \n",
       "mean       0.797940     61.749405     57.457184   3932.799722      5.731157   \n",
       "std        0.474011      1.432621      2.234491   3989.439738      1.121761   \n",
       "min        0.200000     43.000000     43.000000    326.000000      0.000000   \n",
       "25%        0.400000     61.000000     56.000000    950.000000      4.710000   \n",
       "50%        0.700000     61.800000     57.000000   2401.000000      5.700000   \n",
       "75%        1.040000     62.500000     59.000000   5324.250000      6.540000   \n",
       "max        5.010000     79.000000     95.000000  18823.000000     10.740000   \n",
       "\n",
       "                  y             z  \n",
       "count  53940.000000  53940.000000  \n",
       "mean       5.734526      3.538734  \n",
       "std        1.142135      0.705699  \n",
       "min        0.000000      0.000000  \n",
       "25%        4.720000      2.910000  \n",
       "50%        5.710000      3.530000  \n",
       "75%        6.540000      4.040000  \n",
       "max       58.900000     31.800000  "
      ]
     },
     "execution_count": 6,
     "metadata": {},
     "output_type": "execute_result"
    }
   ],
   "source": [
    "diamonds.describe()"
   ]
  },
  {
   "cell_type": "code",
   "execution_count": 7,
   "id": "fa45aa9f",
   "metadata": {},
   "outputs": [
    {
     "data": {
      "application/javascript": "\n        if (window._pyforest_update_imports_cell) { window._pyforest_update_imports_cell('import numpy as np\\nimport seaborn as sns\\nimport xgboost as xgb'); }\n    ",
      "text/plain": [
       "<IPython.core.display.Javascript object>"
      ]
     },
     "metadata": {},
     "output_type": "display_data"
    },
    {
     "data": {
      "text/html": [
       "<div>\n",
       "<style scoped>\n",
       "    .dataframe tbody tr th:only-of-type {\n",
       "        vertical-align: middle;\n",
       "    }\n",
       "\n",
       "    .dataframe tbody tr th {\n",
       "        vertical-align: top;\n",
       "    }\n",
       "\n",
       "    .dataframe thead th {\n",
       "        text-align: right;\n",
       "    }\n",
       "</style>\n",
       "<table border=\"1\" class=\"dataframe\">\n",
       "  <thead>\n",
       "    <tr style=\"text-align: right;\">\n",
       "      <th></th>\n",
       "      <th>cut</th>\n",
       "      <th>color</th>\n",
       "      <th>clarity</th>\n",
       "    </tr>\n",
       "  </thead>\n",
       "  <tbody>\n",
       "    <tr>\n",
       "      <th>count</th>\n",
       "      <td>53940</td>\n",
       "      <td>53940</td>\n",
       "      <td>53940</td>\n",
       "    </tr>\n",
       "    <tr>\n",
       "      <th>unique</th>\n",
       "      <td>5</td>\n",
       "      <td>7</td>\n",
       "      <td>8</td>\n",
       "    </tr>\n",
       "    <tr>\n",
       "      <th>top</th>\n",
       "      <td>Ideal</td>\n",
       "      <td>G</td>\n",
       "      <td>SI1</td>\n",
       "    </tr>\n",
       "    <tr>\n",
       "      <th>freq</th>\n",
       "      <td>21551</td>\n",
       "      <td>11292</td>\n",
       "      <td>13065</td>\n",
       "    </tr>\n",
       "  </tbody>\n",
       "</table>\n",
       "</div>"
      ],
      "text/plain": [
       "          cut  color clarity\n",
       "count   53940  53940   53940\n",
       "unique      5      7       8\n",
       "top     Ideal      G     SI1\n",
       "freq    21551  11292   13065"
      ]
     },
     "execution_count": 7,
     "metadata": {},
     "output_type": "execute_result"
    }
   ],
   "source": [
    "diamonds.describe(exclude=np.number)"
   ]
  },
  {
   "cell_type": "markdown",
   "id": "b7eccf11",
   "metadata": {},
   "source": [
    "### Buiilding an XGBoost DMatrix"
   ]
  },
  {
   "cell_type": "code",
   "execution_count": 8,
   "id": "42261b94",
   "metadata": {},
   "outputs": [],
   "source": [
    "from sklearn.model_selection import train_test_split"
   ]
  },
  {
   "cell_type": "code",
   "execution_count": 9,
   "id": "660b4978",
   "metadata": {},
   "outputs": [],
   "source": [
    "#extract feature and target arrays\n",
    "X, y=diamonds.drop('price', axis=1), diamonds[['price']]"
   ]
  },
  {
   "cell_type": "code",
   "execution_count": 10,
   "id": "3c8499f8",
   "metadata": {},
   "outputs": [
    {
     "data": {
      "application/javascript": "\n        if (window._pyforest_update_imports_cell) { window._pyforest_update_imports_cell('import numpy as np\\nimport seaborn as sns\\nimport xgboost as xgb'); }\n    ",
      "text/plain": [
       "<IPython.core.display.Javascript object>"
      ]
     },
     "metadata": {},
     "output_type": "display_data"
    }
   ],
   "source": [
    "#extract text features\n",
    "\n",
    "cats=X.select_dtypes(exclude=np.number).columns.tolist()\n",
    "\n",
    "#convert to pandas category\n",
    "for col in cats:\n",
    "    X[col]=X[col].astype('category')"
   ]
  },
  {
   "cell_type": "code",
   "execution_count": 11,
   "id": "ec3ef299",
   "metadata": {},
   "outputs": [
    {
     "data": {
      "text/plain": [
       "carat       float64\n",
       "cut        category\n",
       "color      category\n",
       "clarity    category\n",
       "depth       float64\n",
       "table       float64\n",
       "x           float64\n",
       "y           float64\n",
       "z           float64\n",
       "dtype: object"
      ]
     },
     "execution_count": 11,
     "metadata": {},
     "output_type": "execute_result"
    }
   ],
   "source": [
    "X.dtypes"
   ]
  },
  {
   "cell_type": "code",
   "execution_count": 12,
   "id": "84310af3",
   "metadata": {},
   "outputs": [],
   "source": [
    "#split the data\n",
    "X_train,X_test, y_train,y_test=train_test_split(X,y,\n",
    "                                                random_state=1)"
   ]
  },
  {
   "cell_type": "code",
   "execution_count": 13,
   "id": "2a608fd5",
   "metadata": {},
   "outputs": [],
   "source": [
    "import xgboost as xgb\n",
    "\n",
    "\n",
    "#create regression matrices\n",
    "dtrain_reg=xgb.DMatrix(X_train,y_train, enable_categorical=True)\n",
    "\n",
    "dtest_reg=xgb.DMatrix(X_test,y_test, enable_categorical=True)"
   ]
  },
  {
   "cell_type": "markdown",
   "id": "a7a4bf1f",
   "metadata": {},
   "source": [
    "### XGBoost Regression"
   ]
  },
  {
   "cell_type": "code",
   "execution_count": 14,
   "id": "a8436965",
   "metadata": {},
   "outputs": [
    {
     "data": {
      "text/plain": [
       "'\\nimport numpy\\n\\nmse=np.mean((actual-predicted)**2)\\n\\nrmse=np.sqrt(mse)\\n\\n'"
      ]
     },
     "execution_count": 14,
     "metadata": {},
     "output_type": "execute_result"
    }
   ],
   "source": [
    "#how Root Mean squared error is implemented in numpy\n",
    "\n",
    "\"\"\"\n",
    "import numpy\n",
    "\n",
    "mse=np.mean((actual-predicted)**2)\n",
    "\n",
    "rmse=np.sqrt(mse)\n",
    "\n",
    "\"\"\""
   ]
  },
  {
   "cell_type": "markdown",
   "id": "e8b14fd2",
   "metadata": {},
   "source": [
    "### Training "
   ]
  },
  {
   "cell_type": "code",
   "execution_count": 15,
   "id": "ed9892c0",
   "metadata": {},
   "outputs": [],
   "source": [
    "#Define hyperparameters\n",
    "#should be called params and contained in a dict\n",
    "\n",
    "params= {\"objective\":\"reg:squarederror\",\n",
    "         \"tree_method\":\"hist\"}"
   ]
  },
  {
   "cell_type": "code",
   "execution_count": 16,
   "id": "70331ece",
   "metadata": {},
   "outputs": [],
   "source": [
    "n=100\n",
    "\n",
    "model=xgb.train(\n",
    "    params=params,\n",
    "    \n",
    "    dtrain=dtrain_reg,\n",
    "    \n",
    "    num_boost_round=n,\n",
    ")"
   ]
  },
  {
   "cell_type": "markdown",
   "id": "6dcf8796",
   "metadata": {},
   "source": [
    "### Evaluation"
   ]
  },
  {
   "cell_type": "code",
   "execution_count": 17,
   "id": "f865832f",
   "metadata": {},
   "outputs": [],
   "source": [
    "from sklearn.metrics import mean_squared_error\n",
    "\n",
    "\n",
    "preds=model.predict(dtest_reg)"
   ]
  },
  {
   "cell_type": "code",
   "execution_count": 18,
   "id": "4547c668",
   "metadata": {},
   "outputs": [
    {
     "name": "stdout",
     "output_type": "stream",
     "text": [
      "RMSE of the base model: 545.388\n"
     ]
    }
   ],
   "source": [
    "rmse=mean_squared_error(y_test,preds, squared=False)\n",
    "\n",
    "\n",
    "print(f\"RMSE of the base model: {rmse:.3f}\")"
   ]
  },
  {
   "cell_type": "markdown",
   "id": "15368888",
   "metadata": {},
   "source": [
    "### Using Validation Sets During Training"
   ]
  },
  {
   "cell_type": "code",
   "execution_count": 19,
   "id": "8eeb5cc0",
   "metadata": {},
   "outputs": [],
   "source": [
    "params={\"objective\":\"reg:squarederror\",\n",
    "       \"tree_method\":\"hist\"}\n",
    "n=100"
   ]
  },
  {
   "cell_type": "code",
   "execution_count": 20,
   "id": "dca7ae4b",
   "metadata": {},
   "outputs": [],
   "source": [
    "evals=[(dtest_reg,\"validation\"),(dtrain_reg,\"train\")]"
   ]
  },
  {
   "cell_type": "code",
   "execution_count": 21,
   "id": "896ffb2a",
   "metadata": {},
   "outputs": [
    {
     "name": "stdout",
     "output_type": "stream",
     "text": [
      "[0]\tvalidation-rmse:3930.87087\ttrain-rmse:3985.31595\n",
      "[1]\tvalidation-rmse:2812.52945\ttrain-rmse:2849.92126\n",
      "[2]\tvalidation-rmse:2034.91266\ttrain-rmse:2061.76472\n",
      "[3]\tvalidation-rmse:1509.03801\ttrain-rmse:1521.58802\n",
      "[4]\tvalidation-rmse:1155.77477\ttrain-rmse:1158.20689\n",
      "[5]\tvalidation-rmse:922.81058\ttrain-rmse:918.95666\n",
      "[6]\tvalidation-rmse:778.96367\ttrain-rmse:765.71970\n",
      "[7]\tvalidation-rmse:692.56259\ttrain-rmse:671.73734\n",
      "[8]\tvalidation-rmse:638.83852\ttrain-rmse:612.92636\n",
      "[9]\tvalidation-rmse:608.53984\ttrain-rmse:578.33182\n",
      "[10]\tvalidation-rmse:591.03042\ttrain-rmse:557.19710\n",
      "[11]\tvalidation-rmse:578.99646\ttrain-rmse:542.58916\n",
      "[12]\tvalidation-rmse:573.25964\ttrain-rmse:534.88302\n",
      "[13]\tvalidation-rmse:566.28647\ttrain-rmse:527.20423\n",
      "[14]\tvalidation-rmse:561.97563\ttrain-rmse:520.90582\n",
      "[15]\tvalidation-rmse:558.92935\ttrain-rmse:515.69808\n",
      "[16]\tvalidation-rmse:557.84167\ttrain-rmse:512.45290\n",
      "[17]\tvalidation-rmse:556.68519\ttrain-rmse:507.50759\n",
      "[18]\tvalidation-rmse:553.56230\ttrain-rmse:504.04144\n",
      "[19]\tvalidation-rmse:551.09108\ttrain-rmse:499.18646\n",
      "[20]\tvalidation-rmse:550.76666\ttrain-rmse:495.31647\n",
      "[21]\tvalidation-rmse:550.60082\ttrain-rmse:491.79040\n",
      "[22]\tvalidation-rmse:548.36432\ttrain-rmse:487.77269\n",
      "[23]\tvalidation-rmse:547.99883\ttrain-rmse:486.55224\n",
      "[24]\tvalidation-rmse:548.32492\ttrain-rmse:485.06522\n",
      "[25]\tvalidation-rmse:546.35318\ttrain-rmse:481.40234\n",
      "[26]\tvalidation-rmse:546.48934\ttrain-rmse:475.79729\n",
      "[27]\tvalidation-rmse:545.81126\ttrain-rmse:474.35138\n",
      "[28]\tvalidation-rmse:546.34150\ttrain-rmse:471.78810\n",
      "[29]\tvalidation-rmse:545.78579\ttrain-rmse:469.57226\n",
      "[30]\tvalidation-rmse:547.16647\ttrain-rmse:467.13670\n",
      "[31]\tvalidation-rmse:546.68017\ttrain-rmse:465.60822\n",
      "[32]\tvalidation-rmse:546.35900\ttrain-rmse:463.18297\n",
      "[33]\tvalidation-rmse:546.92292\ttrain-rmse:461.03645\n",
      "[34]\tvalidation-rmse:545.65415\ttrain-rmse:459.11065\n",
      "[35]\tvalidation-rmse:545.60024\ttrain-rmse:455.58103\n",
      "[36]\tvalidation-rmse:545.11648\ttrain-rmse:453.61231\n",
      "[37]\tvalidation-rmse:544.35182\ttrain-rmse:451.70785\n",
      "[38]\tvalidation-rmse:543.49648\ttrain-rmse:450.80103\n",
      "[39]\tvalidation-rmse:544.23386\ttrain-rmse:447.46143\n",
      "[40]\tvalidation-rmse:544.10422\ttrain-rmse:447.26879\n",
      "[41]\tvalidation-rmse:544.32107\ttrain-rmse:445.31017\n",
      "[42]\tvalidation-rmse:544.19011\ttrain-rmse:443.57201\n",
      "[43]\tvalidation-rmse:544.16246\ttrain-rmse:441.65878\n",
      "[44]\tvalidation-rmse:544.10014\ttrain-rmse:440.49680\n",
      "[45]\tvalidation-rmse:543.94863\ttrain-rmse:439.46627\n",
      "[46]\tvalidation-rmse:543.69954\ttrain-rmse:437.09814\n",
      "[47]\tvalidation-rmse:543.50496\ttrain-rmse:435.52668\n",
      "[48]\tvalidation-rmse:544.29780\ttrain-rmse:433.53532\n",
      "[49]\tvalidation-rmse:544.03805\ttrain-rmse:432.63530\n",
      "[50]\tvalidation-rmse:543.97371\ttrain-rmse:432.51681\n",
      "[51]\tvalidation-rmse:543.84972\ttrain-rmse:432.34761\n",
      "[52]\tvalidation-rmse:543.74148\ttrain-rmse:432.29726\n",
      "[53]\tvalidation-rmse:544.32619\ttrain-rmse:429.82478\n",
      "[54]\tvalidation-rmse:544.44648\ttrain-rmse:428.05758\n",
      "[55]\tvalidation-rmse:544.98653\ttrain-rmse:427.29817\n",
      "[56]\tvalidation-rmse:545.03108\ttrain-rmse:425.98187\n",
      "[57]\tvalidation-rmse:545.05312\ttrain-rmse:423.33404\n",
      "[58]\tvalidation-rmse:545.31690\ttrain-rmse:422.41177\n",
      "[59]\tvalidation-rmse:545.08016\ttrain-rmse:421.42258\n",
      "[60]\tvalidation-rmse:544.77874\ttrain-rmse:420.72943\n",
      "[61]\tvalidation-rmse:544.64864\ttrain-rmse:420.07456\n",
      "[62]\tvalidation-rmse:543.86081\ttrain-rmse:418.52485\n",
      "[63]\tvalidation-rmse:544.48380\ttrain-rmse:416.56287\n",
      "[64]\tvalidation-rmse:544.66277\ttrain-rmse:415.38839\n",
      "[65]\tvalidation-rmse:544.35353\ttrain-rmse:413.79059\n",
      "[66]\tvalidation-rmse:545.02371\ttrain-rmse:412.29481\n",
      "[67]\tvalidation-rmse:545.16844\ttrain-rmse:411.09605\n",
      "[68]\tvalidation-rmse:545.17511\ttrain-rmse:409.60411\n",
      "[69]\tvalidation-rmse:545.13299\ttrain-rmse:409.52580\n",
      "[70]\tvalidation-rmse:544.77491\ttrain-rmse:408.72053\n",
      "[71]\tvalidation-rmse:544.76693\ttrain-rmse:407.41467\n",
      "[72]\tvalidation-rmse:544.58523\ttrain-rmse:406.22548\n",
      "[73]\tvalidation-rmse:544.58790\ttrain-rmse:405.13579\n",
      "[74]\tvalidation-rmse:544.20643\ttrain-rmse:403.21449\n",
      "[75]\tvalidation-rmse:544.21367\ttrain-rmse:401.49377\n",
      "[76]\tvalidation-rmse:544.37858\ttrain-rmse:400.26256\n",
      "[77]\tvalidation-rmse:544.27528\ttrain-rmse:399.13349\n",
      "[78]\tvalidation-rmse:544.34434\ttrain-rmse:398.41975\n",
      "[79]\tvalidation-rmse:543.90283\ttrain-rmse:397.02373\n",
      "[80]\tvalidation-rmse:544.33808\ttrain-rmse:395.88816\n",
      "[81]\tvalidation-rmse:544.09663\ttrain-rmse:394.50402\n",
      "[82]\tvalidation-rmse:544.86751\ttrain-rmse:392.17516\n",
      "[83]\tvalidation-rmse:544.69666\ttrain-rmse:390.77213\n",
      "[84]\tvalidation-rmse:545.24559\ttrain-rmse:389.19070\n",
      "[85]\tvalidation-rmse:545.07051\ttrain-rmse:389.13130\n",
      "[86]\tvalidation-rmse:545.34295\ttrain-rmse:387.77570\n",
      "[87]\tvalidation-rmse:545.45681\ttrain-rmse:386.38896\n",
      "[88]\tvalidation-rmse:545.25177\ttrain-rmse:385.79451\n",
      "[89]\tvalidation-rmse:545.26247\ttrain-rmse:385.18080\n",
      "[90]\tvalidation-rmse:545.99682\ttrain-rmse:383.62262\n",
      "[91]\tvalidation-rmse:545.84979\ttrain-rmse:383.32585\n",
      "[92]\tvalidation-rmse:545.61669\ttrain-rmse:382.91168\n",
      "[93]\tvalidation-rmse:545.30431\ttrain-rmse:381.20257\n",
      "[94]\tvalidation-rmse:545.46579\ttrain-rmse:380.88685\n",
      "[95]\tvalidation-rmse:545.44038\ttrain-rmse:380.83559\n",
      "[96]\tvalidation-rmse:545.44898\ttrain-rmse:380.68636\n",
      "[97]\tvalidation-rmse:545.30215\ttrain-rmse:380.48816\n",
      "[98]\tvalidation-rmse:545.23124\ttrain-rmse:379.68519\n",
      "[99]\tvalidation-rmse:545.38842\ttrain-rmse:378.37454\n"
     ]
    }
   ],
   "source": [
    "model=xgb.train(\n",
    "    params=params,\n",
    "\n",
    "    dtrain=dtrain_reg,\n",
    "    \n",
    "    num_boost_round=n,\n",
    "    \n",
    "    evals=evals,\n",
    ")"
   ]
  },
  {
   "cell_type": "code",
   "execution_count": 22,
   "id": "dd04a3a1",
   "metadata": {},
   "outputs": [
    {
     "name": "stdout",
     "output_type": "stream",
     "text": [
      "[0]\tevaluation-rmse:3930.87087\ttrain-rmse:3985.31595\n",
      "[10]\tevaluation-rmse:591.03042\ttrain-rmse:557.19710\n",
      "[20]\tevaluation-rmse:550.76666\ttrain-rmse:495.31647\n",
      "[30]\tevaluation-rmse:547.16647\ttrain-rmse:467.13670\n",
      "[40]\tevaluation-rmse:544.10422\ttrain-rmse:447.26879\n",
      "[50]\tevaluation-rmse:543.97371\ttrain-rmse:432.51681\n",
      "[60]\tevaluation-rmse:544.77874\ttrain-rmse:420.72943\n",
      "[70]\tevaluation-rmse:544.77491\ttrain-rmse:408.72053\n",
      "[80]\tevaluation-rmse:544.33808\ttrain-rmse:395.88816\n",
      "[90]\tevaluation-rmse:545.99682\ttrain-rmse:383.62262\n",
      "[99]\tevaluation-rmse:545.38842\ttrain-rmse:378.37454\n"
     ]
    }
   ],
   "source": [
    "#using the verbose_eval parameter to print performance after every verbose_eval rounds\n",
    "\n",
    "params={\"objective\":\"reg:squarederror\",\n",
    "       \"tree_method\":\"hist\"}\n",
    "\n",
    "\n",
    "n=100\n",
    "\n",
    "evals=[(dtest_reg,\"evaluation\"),(dtrain_reg,\"train\")]\n",
    "\n",
    "model=xgb.train(\n",
    "    \n",
    "    params=params,\n",
    "    \n",
    "    dtrain=dtrain_reg,\n",
    "    \n",
    "    num_boost_round=n,\n",
    "    \n",
    "    evals=evals,\n",
    "    \n",
    "    verbose_eval=10 #Every 10 rounds\n",
    ")"
   ]
  },
  {
   "cell_type": "markdown",
   "id": "336775d9",
   "metadata": {},
   "source": [
    "### XGBoost Early Stopping"
   ]
  },
  {
   "cell_type": "code",
   "execution_count": 23,
   "id": "b96f315e",
   "metadata": {},
   "outputs": [
    {
     "name": "stdout",
     "output_type": "stream",
     "text": [
      "[0]\tvalidation-rmse:3930.87087\ttrain-rmse:3985.31595\n",
      "[250]\tvalidation-rmse:557.68923\ttrain-rmse:282.14076\n",
      "[500]\tvalidation-rmse:567.09440\ttrain-rmse:202.29270\n",
      "[750]\tvalidation-rmse:571.09355\ttrain-rmse:153.40105\n",
      "[1000]\tvalidation-rmse:573.92496\ttrain-rmse:124.11251\n",
      "[1250]\tvalidation-rmse:575.80595\ttrain-rmse:102.84756\n",
      "[1500]\tvalidation-rmse:577.05346\ttrain-rmse:86.53817\n",
      "[1750]\tvalidation-rmse:578.72790\ttrain-rmse:74.95409\n",
      "[2000]\tvalidation-rmse:579.29924\ttrain-rmse:64.88654\n"
     ]
    }
   ],
   "source": [
    "params={\"objective\":\"reg:squarederror\",\n",
    "       \"tree_method\":\"hist\"}\n",
    "\n",
    "n=5000\n",
    "\n",
    "\n",
    "evals=[(dtest_reg,\"validation\"),(dtrain_reg, \"train\")]\n",
    "\n",
    "\n",
    "model=xgb.train(\n",
    "\n",
    "    params=params,\n",
    "    \n",
    "    dtrain=dtrain_reg,\n",
    "\n",
    "    num_boost_round=n,\n",
    "\n",
    "    evals=evals,\n",
    "\n",
    "    verbose_eval=250\n",
    ")"
   ]
  },
  {
   "cell_type": "code",
   "execution_count": null,
   "id": "4fcdeacf",
   "metadata": {},
   "outputs": [
    {
     "name": "stdout",
     "output_type": "stream",
     "text": [
      "[0]\tvalidation-rmse:3930.87087\ttrain-rmse:3985.31595\n",
      "[500]\tvalidation-rmse:567.09440\ttrain-rmse:202.29270\n",
      "[1000]\tvalidation-rmse:573.92496\ttrain-rmse:124.11251\n",
      "[1500]\tvalidation-rmse:577.05346\ttrain-rmse:86.53817\n",
      "[2000]\tvalidation-rmse:579.29924\ttrain-rmse:64.88654\n",
      "[2500]\tvalidation-rmse:580.64166\ttrain-rmse:49.60797\n",
      "[3000]\tvalidation-rmse:581.33497\ttrain-rmse:39.07501\n",
      "[3500]\tvalidation-rmse:581.94197\ttrain-rmse:31.53707\n",
      "[4000]\tvalidation-rmse:582.09487\ttrain-rmse:26.22932\n",
      "[4500]\tvalidation-rmse:582.35214\ttrain-rmse:22.08176\n",
      "[5000]\tvalidation-rmse:582.41462\ttrain-rmse:19.08765\n",
      "[5500]\tvalidation-rmse:582.56436\ttrain-rmse:16.87082\n",
      "[6000]\tvalidation-rmse:582.72423\ttrain-rmse:15.30486\n",
      "[6500]\tvalidation-rmse:582.82163\ttrain-rmse:14.16511\n",
      "[7000]\tvalidation-rmse:582.87103\ttrain-rmse:13.25924\n",
      "[7500]\tvalidation-rmse:582.94118\ttrain-rmse:12.66087\n",
      "[8000]\tvalidation-rmse:582.98235\ttrain-rmse:12.20416\n",
      "[8500]\tvalidation-rmse:582.99876\ttrain-rmse:11.88114\n",
      "[9000]\tvalidation-rmse:583.02525\ttrain-rmse:11.63787\n",
      "[9500]\tvalidation-rmse:583.04567\ttrain-rmse:11.47504\n",
      "[9999]\tvalidation-rmse:583.07067\ttrain-rmse:11.35267\n"
     ]
    }
   ],
   "source": [
    "#using the early_stopping_rounds\n",
    "\n",
    "n=10000\n",
    "\n",
    "model=xgb.train(\n",
    "  \n",
    "    params=params,\n",
    "    \n",
    "    dtrain=dtrain_reg,\n",
    "    \n",
    "    num_boost_round=n,\n",
    "    \n",
    "    evals=evals,\n",
    "    \n",
    "    verbose_eval=500,\n",
    "    \n",
    "    #activate early stopping\n",
    "    \n",
    "    early_stopping_rounds=50\n",
    ")"
   ]
  },
  {
   "cell_type": "markdown",
   "id": "b5a3fa34",
   "metadata": {},
   "source": [
    "### XGBoost Cross-Validation"
   ]
  },
  {
   "cell_type": "code",
   "execution_count": null,
   "id": "990d39a1",
   "metadata": {},
   "outputs": [],
   "source": [
    "params={\"objective\":\"reg:squarederror\",\n",
    "       \"tree_method\":\"hist\"}\n",
    "\n",
    "n=1000\n",
    "\n",
    "results=xgb.cv(\n",
    "        \n",
    "    params, dtrain_reg,\n",
    "    \n",
    "    num_boost_round=n,\n",
    "    \n",
    "    nfold=5,\n",
    "    \n",
    "    early_stopping_rounds=20\n",
    ")"
   ]
  },
  {
   "cell_type": "code",
   "execution_count": null,
   "id": "80579f3d",
   "metadata": {},
   "outputs": [
    {
     "data": {
      "text/html": [
       "<div>\n",
       "<style scoped>\n",
       "    .dataframe tbody tr th:only-of-type {\n",
       "        vertical-align: middle;\n",
       "    }\n",
       "\n",
       "    .dataframe tbody tr th {\n",
       "        vertical-align: top;\n",
       "    }\n",
       "\n",
       "    .dataframe thead th {\n",
       "        text-align: right;\n",
       "    }\n",
       "</style>\n",
       "<table border=\"1\" class=\"dataframe\">\n",
       "  <thead>\n",
       "    <tr style=\"text-align: right;\">\n",
       "      <th></th>\n",
       "      <th>train-rmse-mean</th>\n",
       "      <th>train-rmse-std</th>\n",
       "      <th>test-rmse-mean</th>\n",
       "      <th>test-rmse-std</th>\n",
       "    </tr>\n",
       "  </thead>\n",
       "  <tbody>\n",
       "    <tr>\n",
       "      <th>0</th>\n",
       "      <td>3985.648654</td>\n",
       "      <td>10.343596</td>\n",
       "      <td>3986.913623</td>\n",
       "      <td>41.642778</td>\n",
       "    </tr>\n",
       "    <tr>\n",
       "      <th>1</th>\n",
       "      <td>2848.365726</td>\n",
       "      <td>8.014086</td>\n",
       "      <td>2851.020437</td>\n",
       "      <td>28.028733</td>\n",
       "    </tr>\n",
       "    <tr>\n",
       "      <th>2</th>\n",
       "      <td>2063.401458</td>\n",
       "      <td>4.637773</td>\n",
       "      <td>2068.629977</td>\n",
       "      <td>19.969459</td>\n",
       "    </tr>\n",
       "    <tr>\n",
       "      <th>3</th>\n",
       "      <td>1521.493751</td>\n",
       "      <td>3.874078</td>\n",
       "      <td>1530.496272</td>\n",
       "      <td>13.592330</td>\n",
       "    </tr>\n",
       "    <tr>\n",
       "      <th>4</th>\n",
       "      <td>1156.827103</td>\n",
       "      <td>2.991735</td>\n",
       "      <td>1170.413316</td>\n",
       "      <td>11.695597</td>\n",
       "    </tr>\n",
       "  </tbody>\n",
       "</table>\n",
       "</div>"
      ],
      "text/plain": [
       "   train-rmse-mean  train-rmse-std  test-rmse-mean  test-rmse-std\n",
       "0      3985.648654       10.343596     3986.913623      41.642778\n",
       "1      2848.365726        8.014086     2851.020437      28.028733\n",
       "2      2063.401458        4.637773     2068.629977      19.969459\n",
       "3      1521.493751        3.874078     1530.496272      13.592330\n",
       "4      1156.827103        2.991735     1170.413316      11.695597"
      ]
     },
     "execution_count": 25,
     "metadata": {},
     "output_type": "execute_result"
    }
   ],
   "source": [
    "results.head()"
   ]
  },
  {
   "cell_type": "code",
   "execution_count": null,
   "id": "4ecb786d",
   "metadata": {},
   "outputs": [
    {
     "data": {
      "text/plain": [
       "550.7196748119261"
      ]
     },
     "execution_count": 26,
     "metadata": {},
     "output_type": "execute_result"
    }
   ],
   "source": [
    "best_rmse = results['test-rmse-mean'].min()\n",
    "\n",
    "best_rmse"
   ]
  },
  {
   "cell_type": "markdown",
   "id": "42f116a5",
   "metadata": {},
   "source": [
    "### XGBoost Classification"
   ]
  },
  {
   "cell_type": "code",
   "execution_count": null,
   "id": "149931ec",
   "metadata": {},
   "outputs": [
    {
     "data": {
      "application/javascript": "\n        if (window._pyforest_update_imports_cell) { window._pyforest_update_imports_cell('import numpy as np\\nimport seaborn as sns'); }\n    ",
      "text/plain": [
       "<IPython.core.display.Javascript object>"
      ]
     },
     "metadata": {},
     "output_type": "display_data"
    }
   ],
   "source": [
    "from sklearn.preprocessing import OrdinalEncoder\n",
    "\n",
    "\n",
    "X,y=diamonds.drop(\"cut\", axis=1), diamonds[['cut']]\n",
    "\n",
    "#Encode y to numeric\n",
    "y_encoded=OrdinalEncoder().fit_transform(y)\n",
    "\n",
    "\n",
    "#Extract text features\n",
    "cats=X.select_dtypes(exclude=np.number).columns.tolist()\n",
    "\n",
    "\n",
    "#convert to pd.categorical\n",
    "\n",
    "for col in cats:\n",
    "    X[col]=X[col].astype('category')\n",
    "    \n",
    "    \n",
    "#split the data\n",
    "X_train, X_test, y_train, y_test=train_test_split(X,y_encoded, random_state=1, stratify=y_encoded)\n",
    "\n"
   ]
  },
  {
   "cell_type": "code",
   "execution_count": null,
   "id": "adaf4b47",
   "metadata": {},
   "outputs": [],
   "source": [
    "#create classification matrices\n",
    "dtrain_clf=xgb.DMatrix(Xtrain, y_train, enable_categorical=True)\n",
    "\n",
    "dtest_clf = xgb.DMatrix(X_test, y_test, enable_categorical=True)\n"
   ]
  },
  {
   "cell_type": "code",
   "execution_count": null,
   "id": "c4b5f0fe",
   "metadata": {},
   "outputs": [
    {
     "data": {
      "application/javascript": "\n        if (window._pyforest_update_imports_cell) { window._pyforest_update_imports_cell('import xgboost as xgb'); }\n    ",
      "text/plain": [
       "<IPython.core.display.Javascript object>"
      ]
     },
     "metadata": {},
     "output_type": "display_data"
    },
    {
     "ename": "NameError",
     "evalue": "name 'dtrain_clf' is not defined",
     "output_type": "error",
     "traceback": [
      "\u001b[1;31m---------------------------------------------------------------------------\u001b[0m",
      "\u001b[1;31mNameError\u001b[0m                                 Traceback (most recent call last)",
      "\u001b[1;32mc:\\Users\\User\\desktop\\xgboost\\Untitled.ipynb Cell 36\u001b[0m in \u001b[0;36m8\n\u001b[0;32m      <a href='vscode-notebook-cell:/c%3A/Users/User/desktop/xgboost/Untitled.ipynb#Y342sZmlsZQ%3D%3D?line=0'>1</a>\u001b[0m params\u001b[39m=\u001b[39m{\u001b[39m\"\u001b[39m\u001b[39mobjective\u001b[39m\u001b[39m\"\u001b[39m:\u001b[39m\"\u001b[39m\u001b[39mmulti:softprob\u001b[39m\u001b[39m\"\u001b[39m,\n\u001b[0;32m      <a href='vscode-notebook-cell:/c%3A/Users/User/desktop/xgboost/Untitled.ipynb#Y342sZmlsZQ%3D%3D?line=1'>2</a>\u001b[0m         \u001b[39m\"\u001b[39m\u001b[39mtree_method\u001b[39m\u001b[39m\"\u001b[39m:\u001b[39m\"\u001b[39m\u001b[39mhist\u001b[39m\u001b[39m\"\u001b[39m}\n\u001b[0;32m      <a href='vscode-notebook-cell:/c%3A/Users/User/desktop/xgboost/Untitled.ipynb#Y342sZmlsZQ%3D%3D?line=3'>4</a>\u001b[0m n\u001b[39m=\u001b[39m\u001b[39m100\u001b[39m\n\u001b[0;32m      <a href='vscode-notebook-cell:/c%3A/Users/User/desktop/xgboost/Untitled.ipynb#Y342sZmlsZQ%3D%3D?line=6'>7</a>\u001b[0m results\u001b[39m=\u001b[39mxgb\u001b[39m.\u001b[39mcv(\n\u001b[1;32m----> <a href='vscode-notebook-cell:/c%3A/Users/User/desktop/xgboost/Untitled.ipynb#Y342sZmlsZQ%3D%3D?line=7'>8</a>\u001b[0m     params, dtrain_clf,\n\u001b[0;32m      <a href='vscode-notebook-cell:/c%3A/Users/User/desktop/xgboost/Untitled.ipynb#Y342sZmlsZQ%3D%3D?line=8'>9</a>\u001b[0m \n\u001b[0;32m     <a href='vscode-notebook-cell:/c%3A/Users/User/desktop/xgboost/Untitled.ipynb#Y342sZmlsZQ%3D%3D?line=9'>10</a>\u001b[0m     num_boost_round\u001b[39m=\u001b[39mn,\n\u001b[0;32m     <a href='vscode-notebook-cell:/c%3A/Users/User/desktop/xgboost/Untitled.ipynb#Y342sZmlsZQ%3D%3D?line=10'>11</a>\u001b[0m \n\u001b[0;32m     <a href='vscode-notebook-cell:/c%3A/Users/User/desktop/xgboost/Untitled.ipynb#Y342sZmlsZQ%3D%3D?line=11'>12</a>\u001b[0m     nfold\u001b[39m=\u001b[39m\u001b[39m5\u001b[39m,\n\u001b[0;32m     <a href='vscode-notebook-cell:/c%3A/Users/User/desktop/xgboost/Untitled.ipynb#Y342sZmlsZQ%3D%3D?line=12'>13</a>\u001b[0m \n\u001b[0;32m     <a href='vscode-notebook-cell:/c%3A/Users/User/desktop/xgboost/Untitled.ipynb#Y342sZmlsZQ%3D%3D?line=13'>14</a>\u001b[0m     metrics\u001b[39m=\u001b[39m[\u001b[39m\"\u001b[39m\u001b[39mmlogloss\u001b[39m\u001b[39m\"\u001b[39m,\u001b[39m\"\u001b[39m\u001b[39mauc\u001b[39m\u001b[39m\"\u001b[39m,\u001b[39m\"\u001b[39m\u001b[39mmerror\u001b[39m\u001b[39m\"\u001b[39m],\n\u001b[0;32m     <a href='vscode-notebook-cell:/c%3A/Users/User/desktop/xgboost/Untitled.ipynb#Y342sZmlsZQ%3D%3D?line=14'>15</a>\u001b[0m     \n\u001b[0;32m     <a href='vscode-notebook-cell:/c%3A/Users/User/desktop/xgboost/Untitled.ipynb#Y342sZmlsZQ%3D%3D?line=15'>16</a>\u001b[0m )\n",
      "\u001b[1;31mNameError\u001b[0m: name 'dtrain_clf' is not defined"
     ]
    }
   ],
   "source": [
    "params={\"objective\":\"multi:softprob\",\n",
    "        \"tree_method\":\"hist\"}\n",
    "\n",
    "n=100\n",
    "\n",
    "\n",
    "results=xgb.cv(\n",
    "    params, dtrain_clf,\n",
    "\n",
    "    num_boost_round=n,\n",
    "\n",
    "    nfold=5,\n",
    "\n",
    "    metrics=[\"mlogloss\",\"auc\",\"merror\"],\n",
    "    \n",
    ")"
   ]
  },
  {
   "cell_type": "code",
   "execution_count": null,
   "id": "03bde280",
   "metadata": {},
   "outputs": [
    {
     "data": {
      "text/plain": [
       "Index(['train-rmse-mean', 'train-rmse-std', 'test-rmse-mean', 'test-rmse-std'], dtype='object')"
      ]
     },
     "execution_count": 31,
     "metadata": {},
     "output_type": "execute_result"
    }
   ],
   "source": [
    "results.keys()\n"
   ]
  },
  {
   "cell_type": "code",
   "execution_count": null,
   "id": "b9a1cb4c",
   "metadata": {},
   "outputs": [],
   "source": []
  }
 ],
 "metadata": {
  "kernelspec": {
   "display_name": "Python 3 (ipykernel)",
   "language": "python",
   "name": "python3"
  },
  "language_info": {
   "codemirror_mode": {
    "name": "ipython",
    "version": 3
   },
   "file_extension": ".py",
   "mimetype": "text/x-python",
   "name": "python",
   "nbconvert_exporter": "python",
   "pygments_lexer": "ipython3",
   "version": "3.9.16"
  }
 },
 "nbformat": 4,
 "nbformat_minor": 5
}
